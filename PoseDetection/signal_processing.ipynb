{
 "cells": [
  {
   "cell_type": "code",
   "execution_count": 2,
   "metadata": {},
   "outputs": [],
   "source": [
    "import numpy as np\n",
    "signal = np.array([0,0,0,0,0,0,0,0,0,0,0,0,0,0,0,0,0,0,0,0,0,0,0,1,1,1,1,1,0,1,1,1,1,0,0,0,0,0,0,0,0,0,0,0,0,0,0,0,0,0,0,0,0,0,0,0,0,\n",
    "                   1,1,1,1,1,1,1,1,1,1,1,1,1,1,1,0,0,0,0,0,0,0,0,0,0,0,0,0,0,0,1,0,0,0,0,0,0,0,0,0,0,0,0,0,0,0,0,0,0,0,0,0,0,0,0,0,0,0])"
   ]
  },
  {
   "cell_type": "code",
   "execution_count": 7,
   "metadata": {},
   "outputs": [
    {
     "name": "stdout",
     "output_type": "stream",
     "text": [
      "Number of transitions to '1' detected: 3\n"
     ]
    }
   ],
   "source": [
    "import numpy as np\n",
    "\n",
    "def count_transitions(signal, min_duration=10, debounce_time=1):\n",
    "    count = 0\n",
    "    current_streak = 0\n",
    "    debounce_counter = 0\n",
    "    \n",
    "    for value in signal:\n",
    "        if value == 1:\n",
    "            if debounce_counter > 0:  # We were in a debounce period for '0's\n",
    "                debounce_counter = 0  # Reset it since we got a '1'\n",
    "            current_streak += 1\n",
    "        else:\n",
    "            if current_streak >= min_duration:  # If the streak of '1's is long enough, count it\n",
    "                if debounce_counter == 0:  # Only if we are not already counting a previous debounce\n",
    "                    count += 1\n",
    "            if current_streak > 0:  # If we were in a streak, start the debounce counter\n",
    "                debounce_counter = debounce_time\n",
    "            if debounce_counter > 0:  # If we are in debounce time, decrement it\n",
    "                debounce_counter -= 1\n",
    "            else:  # Reset streak counter if debounce time has passed\n",
    "                current_streak = 0\n",
    "    \n",
    "    # Catch any final streak without a trailing '0' to reset it\n",
    "    if current_streak >= min_duration and debounce_counter == 0:\n",
    "        count += 1\n",
    "    \n",
    "    return count\n",
    "\n",
    "# Given signal array\n",
    "# signal = }np.array([0,0,0,0,0,0,0,0,0,0,0,0,0,0,0,0,0,0,0,0,0,0,0,1,1,1,1,1,0,1,1,1,1,0,0,0,0,0,0,0,0,0,0,0,0,0,0,0,0,0,0,0,0,0,0,0,0,0,0,1,1,1,1,1,1,1,1,1,1,1,1,1,1,0,0,0,0,0,0,0,0,0,0,0,0,0,0,0,1,0,0,0,0,0,0,0,0,0,0,0,0,0,0,0,0,0,0,0,0,0,0,0,0,0,0,0])\n",
    "\n",
    "# Count transitions using the above function\n",
    "# Assuming 3 or more consecutive '1's make up a minimum duration 'signal'\n",
    "# and allowing for 1 'debounce' frame between noise '0's\n",
    "transitions = count_transitions(signal, min_duration=6, debounce_time=3)\n",
    "\n",
    "print(\"Number of transitions to '1' detected:\", transitions)\n"
   ]
  }
 ],
 "metadata": {
  "kernelspec": {
   "display_name": "face-recog",
   "language": "python",
   "name": "python3"
  },
  "language_info": {
   "codemirror_mode": {
    "name": "ipython",
    "version": 3
   },
   "file_extension": ".py",
   "mimetype": "text/x-python",
   "name": "python",
   "nbconvert_exporter": "python",
   "pygments_lexer": "ipython3",
   "version": "3.11.4"
  }
 },
 "nbformat": 4,
 "nbformat_minor": 2
}
