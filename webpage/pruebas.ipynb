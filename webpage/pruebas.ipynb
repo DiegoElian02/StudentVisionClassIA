{
 "cells": [
  {
   "cell_type": "code",
   "execution_count": 1,
   "metadata": {},
   "outputs": [],
   "source": [
    "from deta import Deta\n",
    "import pandas as pd\n",
    "from datetime import datetime\n",
    "import calendar\n",
    "import matplotlib.pyplot as plt"
   ]
  },
  {
   "cell_type": "code",
   "execution_count": 2,
   "metadata": {},
   "outputs": [],
   "source": [
    "DETAKEY = \"b0nuscm7yka_CWJRCsPHdCAkTspwGnHoM7jcg2HPu3Zs\"\n",
    "deta = Deta(DETAKEY)\n",
    "\n",
    "db = deta.Base(\"grupo1_alumnos\")\n",
    "db2 = deta.Base(\"grupo1_asistencia\")\n",
    "db3 = deta.Base(\"grupo1_participacion\")"
   ]
  },
  {
   "cell_type": "code",
   "execution_count": 3,
   "metadata": {},
   "outputs": [],
   "source": [
    "def nuevo_alumno(key: str, nombre: str, apellido: str, edad: int, asistencias: int, participaciones : int):\n",
    "    return db.put({\"key\" : key, \"nombre\" : nombre, \"apellido\": apellido, \"edad\": edad, \"asistencias\": asistencias, \"participaciones\": participaciones})\n",
    "\n",
    "def fetch_alumnos():\n",
    "    res = db.fetch()\n",
    "    return res.items\n",
    "\n",
    "def get_alumno(key):\n",
    "    return db.get(key)\n",
    "\n",
    "def update_alumno(key, updates):\n",
    "    return db.update(key, updates)\n",
    "\n",
    "def delete_alumno(key):\n",
    "    return db.delete(key)"
   ]
  },
  {
   "cell_type": "code",
   "execution_count": 4,
   "metadata": {},
   "outputs": [],
   "source": [
    "data2 = list(db2.fetch({}).items)"
   ]
  },
  {
   "cell_type": "code",
   "execution_count": 11,
   "metadata": {},
   "outputs": [
    {
     "data": {
      "text/plain": [
       "datetime.date(2023, 11, 26)"
      ]
     },
     "execution_count": 11,
     "metadata": {},
     "output_type": "execute_result"
    }
   ],
   "source": [
    "datetime.now().date()"
   ]
  },
  {
   "cell_type": "code",
   "execution_count": 18,
   "metadata": {},
   "outputs": [
    {
     "data": {
      "text/plain": [
       "array(['Diego', 'Elias', 'Ana', 'Jose', 'Emi'], dtype=object)"
      ]
     },
     "execution_count": 18,
     "metadata": {},
     "output_type": "execute_result"
    }
   ],
   "source": [
    "df_asistencias = pd.DataFrame(data)\n",
    "df_asistencias[\"fecha\"] = df_asistencias[\"fecha\"].apply(lambda x: pd.to_datetime(x).date())\n",
    "df_asistencias[df_asistencias[\"fecha\"] == datetime.now().date()][\"alumno\"].unique()"
   ]
  },
  {
   "cell_type": "code",
   "execution_count": 8,
   "metadata": {},
   "outputs": [],
   "source": [
    "data_participaciones = list(db3.fetch({}).items)\n",
    "\n",
    "data_participaciones = [{**entry, 'day_of_week': calendar.day_name[datetime.strptime(entry['fecha'], \"%Y-%m-%d %H:%M:%S\").weekday()]} for entry in data_participaciones]\n"
   ]
  },
  {
   "cell_type": "code",
   "execution_count": 9,
   "metadata": {},
   "outputs": [
    {
     "data": {
      "text/plain": [
       "[{'alumno': 'Elias',\n",
       "  'fecha': '2023-11-26 17:05:03',\n",
       "  'key': '0kvztifsz5nv',\n",
       "  'participaciones': 1,\n",
       "  'day_of_week': 'Sunday'},\n",
       " {'alumno': 'Ana',\n",
       "  'fecha': '2023-11-26 16:56:45',\n",
       "  'key': '3s6uhl3gg3aq',\n",
       "  'participaciones': 2,\n",
       "  'day_of_week': 'Sunday'},\n",
       " {'alumno': 'Diego',\n",
       "  'fecha': '2023-11-26 17:23:22',\n",
       "  'key': '6gme55dsq8z0',\n",
       "  'participaciones': 1,\n",
       "  'day_of_week': 'Sunday'},\n",
       " {'alumno': 'Diego',\n",
       "  'fecha': '2023-11-26 16:46:07',\n",
       "  'key': '6plu1am7kvzq',\n",
       "  'participaciones': 3,\n",
       "  'day_of_week': 'Sunday'},\n",
       " {'alumno': 'Diego',\n",
       "  'fecha': '2023-11-26 17:11:35',\n",
       "  'key': '7l50nw0vsmsk',\n",
       "  'participaciones': 2,\n",
       "  'day_of_week': 'Sunday'},\n",
       " {'alumno': 'Ana',\n",
       "  'fecha': '2023-11-26 16:39:38',\n",
       "  'key': '89drjsf0mtkj',\n",
       "  'participaciones': 2,\n",
       "  'day_of_week': 'Sunday'},\n",
       " {'alumno': 'Diego',\n",
       "  'fecha': '2023-11-26 15:10:33',\n",
       "  'key': 'b7iujmykxmj0',\n",
       "  'participaciones': 2,\n",
       "  'day_of_week': 'Sunday'},\n",
       " {'alumno': 'Elias',\n",
       "  'fecha': '2023-11-26 16:13:31',\n",
       "  'key': 'des78qwj45yz',\n",
       "  'participaciones': 1,\n",
       "  'day_of_week': 'Sunday'},\n",
       " {'alumno': 'Diego',\n",
       "  'fecha': '2023-11-26 16:51:00',\n",
       "  'key': 'iqghl55hy9ut',\n",
       "  'participaciones': 3,\n",
       "  'day_of_week': 'Sunday'},\n",
       " {'alumno': 'Elias',\n",
       "  'fecha': '2023-11-26 16:24:28',\n",
       "  'key': 'jkplgbatpd6c',\n",
       "  'participaciones': 1,\n",
       "  'day_of_week': 'Sunday'},\n",
       " {'alumno': 'Elias',\n",
       "  'fecha': '2023-11-26 17:54:13',\n",
       "  'key': 'khv6wwhlzro1',\n",
       "  'participaciones': 2,\n",
       "  'day_of_week': 'Sunday'},\n",
       " {'alumno': 'Elias',\n",
       "  'fecha': '2023-11-26 16:56:45',\n",
       "  'key': 'kyucbatdbw2w',\n",
       "  'participaciones': 1,\n",
       "  'day_of_week': 'Sunday'},\n",
       " {'alumno': 'Diego',\n",
       "  'fecha': '2023-11-26 16:42:18',\n",
       "  'key': 'lifnigssvoik',\n",
       "  'participaciones': 2,\n",
       "  'day_of_week': 'Sunday'},\n",
       " {'alumno': 'Elias',\n",
       "  'fecha': '2023-11-26 17:39:10',\n",
       "  'key': 'lpjkrvirwsro',\n",
       "  'participaciones': 1,\n",
       "  'day_of_week': 'Sunday'},\n",
       " {'alumno': 'Elias',\n",
       "  'fecha': '2023-11-26 17:23:22',\n",
       "  'key': 'm1yyoe7a0i5c',\n",
       "  'participaciones': 1,\n",
       "  'day_of_week': 'Sunday'},\n",
       " {'alumno': 'Diego',\n",
       "  'fecha': '2023-11-26 17:19:02',\n",
       "  'key': 'oi2u65b3wspk',\n",
       "  'participaciones': 1,\n",
       "  'day_of_week': 'Sunday'},\n",
       " {'alumno': 'Diego',\n",
       "  'fecha': '2023-11-26 15:11:15',\n",
       "  'key': 'pntpfu3ossx9',\n",
       "  'participaciones': 2,\n",
       "  'day_of_week': 'Sunday'},\n",
       " {'alumno': 'Elias',\n",
       "  'fecha': '2023-11-26 16:05:17',\n",
       "  'key': 'qz9nq54x7zia',\n",
       "  'participaciones': 2,\n",
       "  'day_of_week': 'Sunday'},\n",
       " {'alumno': 'Elias',\n",
       "  'fecha': '2023-11-26 17:01:01',\n",
       "  'key': 'udkttr8h7mgn',\n",
       "  'participaciones': 2,\n",
       "  'day_of_week': 'Sunday'},\n",
       " {'alumno': 'Diego',\n",
       "  'fecha': '2023-11-26 17:15:46',\n",
       "  'key': 'wdcf21cz06en',\n",
       "  'participaciones': 1,\n",
       "  'day_of_week': 'Sunday'}]"
      ]
     },
     "execution_count": 9,
     "metadata": {},
     "output_type": "execute_result"
    }
   ],
   "source": [
    "data_participaciones"
   ]
  },
  {
   "cell_type": "code",
   "execution_count": 13,
   "metadata": {},
   "outputs": [
    {
     "data": {
      "text/plain": [
       "['Elias', 'Ana', 'Diego']"
      ]
     },
     "execution_count": 13,
     "metadata": {},
     "output_type": "execute_result"
    }
   ],
   "source": [
    "alumnos"
   ]
  },
  {
   "cell_type": "code",
   "execution_count": 14,
   "metadata": {},
   "outputs": [
    {
     "data": {
      "text/plain": [
       "[12, 4, 17]"
      ]
     },
     "execution_count": 14,
     "metadata": {},
     "output_type": "execute_result"
    }
   ],
   "source": [
    "participaciones"
   ]
  },
  {
   "cell_type": "code",
   "execution_count": 12,
   "metadata": {},
   "outputs": [
    {
     "data": {
      "text/plain": [
       "Text(0.5, 1.0, 'Participación por alumno')"
      ]
     },
     "execution_count": 12,
     "metadata": {},
     "output_type": "execute_result"
    },
    {
     "data": {
      "image/png": "[encoded data removed]",
      "text/plain": [
       "<Figure size 640x480 with 1 Axes>"
      ]
     },
     "metadata": {},
     "output_type": "display_data"
    }
   ],
   "source": [
    "alumnos = list(set([item['alumno'] for item in data_participaciones]))\n",
    "participaciones = []\n",
    "for alumno in alumnos:\n",
    "    participaciones.append(sum([item['participaciones'] for item in data_participaciones if item['alumno'] == alumno]))\n",
    "\n",
    "fig, ax = plt.subplots()\n",
    "ax.barh(alumnos, participaciones, color='green')\n",
    "ax.set_xlabel('Participaciones')\n",
    "ax.set_title('Participación por alumno')"
   ]
  },
  {
   "cell_type": "code",
   "execution_count": 4,
   "metadata": {},
   "outputs": [],
   "source": [
    "import streamlit as st\n",
    "import numpy as np\n",
    "import pandas as pd\n",
    "import face_recognition\n",
    "import pickle\n",
    "from pathlib import Path\n",
    "import streamlit_authenticator as stauth\n",
    "import matplotlib.pyplot as plt\n",
    "import cv2\n",
    "from st_pages import Page, Section, add_page_title, show_pages\n",
    "from deta import Deta\n",
    "from datetime import datetime\n",
    "import calendar\n",
    "# st.set_page_config(layout=\"wide\")\n",
    "# Datos ficticios\n",
    "\n",
    "\n",
    "DETAKEY = \"b0nuscm7yka_pJWqFJMpuzDYxCpuD83GFPQe98mdJjXj\"\n",
    "deta = Deta(DETAKEY)\n",
    "db = deta.Base(\"grupo1_alumnos\")\n",
    "db2 = deta.Base(\"grupo1_asistencia\")\n",
    "\n",
    "def fetch_base():\n",
    "    res = db.fetch()\n",
    "    return res.items\n",
    "\n",
    "def get_alumno(key):\n",
    "    return db.get(key)\n",
    "\n",
    "def update_alumno(key, updates):\n",
    "    return db.update(key, updates)\n",
    "\n",
    "def delete_alumno(key):\n",
    "    return db.delete(key)\n",
    "\n",
    "data = list(db2.fetch({}).items)\n"
   ]
  },
  {
   "cell_type": "code",
   "execution_count": 5,
   "metadata": {},
   "outputs": [],
   "source": [
    "data = [{**entry, 'day_of_week': calendar.day_name[datetime.strptime(entry['fecha'], \"%Y-%m-%d %H:%M:%S\").weekday()]} for entry in data]\n"
   ]
  },
  {
   "cell_type": "code",
   "execution_count": 27,
   "metadata": {},
   "outputs": [],
   "source": [
    "\n",
    "# Crear listas de alumnos, asistencias, participaciones y días\n",
    "alumnos = list(set([item['alumno'] for item in data]))\n",
    "\n",
    "asistencias = []\n",
    "for alumno in alumnos:\n",
    "    asistencias.append(sum([1 for item in data if item['alumno'] == alumno and item['asistio']]))\n",
    "\n",
    "participaciones = []\n",
    "for alumno in alumnos:\n",
    "    participaciones.append(sum([item['participaciones'] for item in data if item['alumno'] == alumno]))\n",
    "\n",
    "dias = ['monday', 'tuesday', 'wednesday', 'thrusday', 'friday']\n",
    "asistencia_por_dia = []\n",
    "for dia in dias:\n",
    "    asistencia_por_dia.append(sum([1 for item in data if item['day_of_week'].lower() == dia]))\n"
   ]
  },
  {
   "cell_type": "code",
   "execution_count": 28,
   "metadata": {},
   "outputs": [
    {
     "data": {
      "text/plain": [
       "[3, 0, 0, 0, 0]"
      ]
     },
     "execution_count": 28,
     "metadata": {},
     "output_type": "execute_result"
    }
   ],
   "source": [
    "asistencia_por_dia"
   ]
  },
  {
   "cell_type": "code",
   "execution_count": 23,
   "metadata": {},
   "outputs": [
    {
     "data": {
      "text/plain": [
       "'Sunday'"
      ]
     },
     "execution_count": 23,
     "metadata": {},
     "output_type": "execute_result"
    }
   ],
   "source": [
    "str(data[2][\"day_of_week\"])"
   ]
  }
 ],
 "metadata": {
  "kernelspec": {
   "display_name": "titanic",
   "language": "python",
   "name": "python3"
  },
  "language_info": {
   "codemirror_mode": {
    "name": "ipython",
    "version": 3
   },
   "file_extension": ".py",
   "mimetype": "text/x-python",
   "name": "python",
   "nbconvert_exporter": "python",
   "pygments_lexer": "ipython3",
   "version": "3.11.4"
  }
 },
 "nbformat": 4,
 "nbformat_minor": 2
}
