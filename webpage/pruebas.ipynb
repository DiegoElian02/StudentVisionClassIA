{
 "cells": [
  {
   "cell_type": "code",
   "execution_count": 1,
   "metadata": {},
   "outputs": [],
   "source": [
    "from deta import Deta\n",
    "import pandas as pd"
   ]
  },
  {
   "cell_type": "code",
   "execution_count": 2,
   "metadata": {},
   "outputs": [],
   "source": [
    "DETAKEY = \"b0nuscm7yka_pJWqFJMpuzDYxCpuD83GFPQe98mdJjXj\"\n",
    "deta = Deta(DETAKEY)\n",
    "\n",
    "db = deta.Base(\"grupo1_alumnos\")"
   ]
  },
  {
   "cell_type": "code",
   "execution_count": 5,
   "metadata": {},
   "outputs": [],
   "source": [
    "def nuevo_alumno(key: str, nombre: str, apellido: str, edad: int, asistencias: int, participaciones : int):\n",
    "    return db.put({\"key\" : key, \"nombre\" : nombre, \"apellido\": apellido, \"edad\": edad, \"asistencias\": asistencias, \"participaciones\": participaciones})\n",
    "\n",
    "def fetch_alumnos():\n",
    "    res = db.fetch()\n",
    "    return res.items\n",
    "\n",
    "def get_alumno(key):\n",
    "    return db.get(key)\n",
    "\n",
    "def update_alumno(key, updates):\n",
    "    return db.update(key, updates)\n",
    "\n",
    "def delete_alumno(key):\n",
    "    return db.delete(key)"
   ]
  },
  {
   "cell_type": "code",
   "execution_count": 12,
   "metadata": {},
   "outputs": [
    {
     "data": {
      "text/plain": [
       "{'apellido': 'Garza',\n",
       " 'asistencias': 0,\n",
       " 'edad': 22,\n",
       " 'key': 'A000000',\n",
       " 'nombre': 'Elias',\n",
       " 'participaciones': 0}"
      ]
     },
     "execution_count": 12,
     "metadata": {},
     "output_type": "execute_result"
    }
   ],
   "source": [
    "nuevo_alumno(\"A000000\", \"Elias\", \"Garza\", 22, 0, 0)"
   ]
  },
  {
   "cell_type": "code",
   "execution_count": 22,
   "metadata": {},
   "outputs": [
    {
     "data": {
      "text/plain": [
       "['Elias', 'Diego Elian']"
      ]
     },
     "execution_count": 22,
     "metadata": {},
     "output_type": "execute_result"
    },
    {
     "ename": "",
     "evalue": "",
     "output_type": "error",
     "traceback": [
      "\u001b[1;31mThe Kernel crashed while executing code in the the current cell or a previous cell. Please review the code in the cell(s) to identify a possible cause of the failure. Click <a href='https://aka.ms/vscodeJupyterKernelCrash'>here</a> for more info. View Jupyter <a href='command:jupyter.viewOutput'>log</a> for further details."
     ]
    }
   ],
   "source": []
  },
  {
   "cell_type": "code",
   "execution_count": 4,
   "metadata": {},
   "outputs": [],
   "source": [
    "import streamlit as st\n",
    "import numpy as np\n",
    "import pandas as pd\n",
    "import face_recognition\n",
    "import pickle\n",
    "from pathlib import Path\n",
    "import streamlit_authenticator as stauth\n",
    "import matplotlib.pyplot as plt\n",
    "import cv2\n",
    "from st_pages import Page, Section, add_page_title, show_pages\n",
    "from deta import Deta\n",
    "from datetime import datetime\n",
    "import calendar\n",
    "# st.set_page_config(layout=\"wide\")\n",
    "# Datos ficticios\n",
    "\n",
    "\n",
    "DETAKEY = \"b0nuscm7yka_pJWqFJMpuzDYxCpuD83GFPQe98mdJjXj\"\n",
    "deta = Deta(DETAKEY)\n",
    "db = deta.Base(\"grupo1_alumnos\")\n",
    "db2 = deta.Base(\"grupo1_asistencia\")\n",
    "\n",
    "def fetch_base():\n",
    "    res = db.fetch()\n",
    "    return res.items\n",
    "\n",
    "def get_alumno(key):\n",
    "    return db.get(key)\n",
    "\n",
    "def update_alumno(key, updates):\n",
    "    return db.update(key, updates)\n",
    "\n",
    "def delete_alumno(key):\n",
    "    return db.delete(key)\n",
    "\n",
    "data = list(db2.fetch({}).items)\n"
   ]
  },
  {
   "cell_type": "code",
   "execution_count": 5,
   "metadata": {},
   "outputs": [],
   "source": [
    "data = [{**entry, 'day_of_week': calendar.day_name[datetime.strptime(entry['fecha'], \"%Y-%m-%d %H:%M:%S\").weekday()]} for entry in data]\n"
   ]
  },
  {
   "cell_type": "code",
   "execution_count": 27,
   "metadata": {},
   "outputs": [],
   "source": [
    "\n",
    "# Crear listas de alumnos, asistencias, participaciones y días\n",
    "alumnos = list(set([item['alumno'] for item in data]))\n",
    "\n",
    "asistencias = []\n",
    "for alumno in alumnos:\n",
    "    asistencias.append(sum([1 for item in data if item['alumno'] == alumno and item['asistio']]))\n",
    "\n",
    "participaciones = []\n",
    "for alumno in alumnos:\n",
    "    participaciones.append(sum([item['participaciones'] for item in data if item['alumno'] == alumno]))\n",
    "\n",
    "dias = ['monday', 'tuesday', 'wednesday', 'thrusday', 'friday']\n",
    "asistencia_por_dia = []\n",
    "for dia in dias:\n",
    "    asistencia_por_dia.append(sum([1 for item in data if item['day_of_week'].lower() == dia]))\n"
   ]
  },
  {
   "cell_type": "code",
   "execution_count": 28,
   "metadata": {},
   "outputs": [
    {
     "data": {
      "text/plain": [
       "[3, 0, 0, 0, 0]"
      ]
     },
     "execution_count": 28,
     "metadata": {},
     "output_type": "execute_result"
    }
   ],
   "source": [
    "asistencia_por_dia"
   ]
  },
  {
   "cell_type": "code",
   "execution_count": 23,
   "metadata": {},
   "outputs": [
    {
     "data": {
      "text/plain": [
       "'Sunday'"
      ]
     },
     "execution_count": 23,
     "metadata": {},
     "output_type": "execute_result"
    }
   ],
   "source": [
    "str(data[2][\"day_of_week\"])"
   ]
  }
 ],
 "metadata": {
  "kernelspec": {
   "display_name": "titanic",
   "language": "python",
   "name": "python3"
  },
  "language_info": {
   "codemirror_mode": {
    "name": "ipython",
    "version": 3
   },
   "file_extension": ".py",
   "mimetype": "text/x-python",
   "name": "python",
   "nbconvert_exporter": "python",
   "pygments_lexer": "ipython3",
   "version": "3.11.4"
  }
 },
 "nbformat": 4,
 "nbformat_minor": 2
}
